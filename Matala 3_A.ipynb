{
 "cells": [
  {
   "cell_type": "code",
   "execution_count": 154,
   "id": "22ef7cca",
   "metadata": {},
   "outputs": [
    {
     "name": "stdout",
     "output_type": "stream",
     "text": [
      "-------------------------------------------------------------\n"
     ]
    }
   ],
   "source": [
    "def read_line(n, file):\n",
    "    try:\n",
    "        if type(n)!= int:\n",
    "            return(print(\"invalid input detected\")) \n",
    "        location='C:/temp/Matala3/'\n",
    "        handle = open(location + file, 'r')\n",
    "        rls=list()\n",
    "        for line in handle:\n",
    "            rls.append(line.rstrip())\n",
    "        print (rls[n-1])\n",
    "    except:\n",
    "        print(\"file not found\") \n",
    "\n",
    "read_line (2,'ex3_text.txt')\n",
    "    "
   ]
  },
  {
   "cell_type": "code",
   "execution_count": 152,
   "id": "8e717c56",
   "metadata": {},
   "outputs": [
    {
     "name": "stdout",
     "output_type": "stream",
     "text": [
      "['electromagnetic', 'gravitational', 'Consequently', 'calculations', 'ultraviolet']\n"
     ]
    }
   ],
   "source": [
    "def longest_words(file) :\n",
    "    try:\n",
    "        location='C:/temp/Matala3/'\n",
    "        handle = open(location + file, 'r')\n",
    "        rls=list()\n",
    "        MaxWord=['0','0','0','0','0']\n",
    "        for line in handle:            \n",
    "            line= line.replace('.',' ').replace(',','')\n",
    "            linewords=line.split()\n",
    "            for word in linewords:\n",
    "                if word.startswith('-'):continue\n",
    "                    \n",
    "                if len(word)>len(MaxWord[0]):\n",
    "                    MaxWord[1:5]=MaxWord[0:4]\n",
    "                    MaxWord[0] = word\n",
    "                elif len(word)>len(MaxWord[1]):\n",
    "                    MaxWord[2:5]=MaxWord[1:4]\n",
    "                    MaxWord[1] = word\n",
    "                elif len(word)>len(MaxWord[2]):\n",
    "                    MaxWord[3:5]=MaxWord[2:4]\n",
    "                    MaxWord[2] = word\n",
    "                elif len(word)>len(MaxWord[3]):\n",
    "                    MaxWord[4:5]=MaxWord[3:4]\n",
    "                    MaxWord[3] = word\n",
    "                elif len(word)>len(MaxWord[4]):\n",
    "                    MaxWord[4] = word\n",
    "                else: continue\n",
    "        for Max in MaxWord:\n",
    "            rls.append(Max)\n",
    "        print(rls)\n",
    "    except:\n",
    "         print(\"file not found\") \n",
    "        \n",
    "longest_words('ex3_text.txt')       "
   ]
  },
  {
   "cell_type": "code",
   "execution_count": 87,
   "id": "08602a2c",
   "metadata": {},
   "outputs": [],
   "source": []
  },
  {
   "cell_type": "code",
   "execution_count": null,
   "id": "86331906",
   "metadata": {},
   "outputs": [],
   "source": []
  },
  {
   "cell_type": "code",
   "execution_count": null,
   "id": "a201c3ca",
   "metadata": {},
   "outputs": [],
   "source": []
  }
 ],
 "metadata": {
  "kernelspec": {
   "display_name": "Python 3 (ipykernel)",
   "language": "python",
   "name": "python3"
  },
  "language_info": {
   "codemirror_mode": {
    "name": "ipython",
    "version": 3
   },
   "file_extension": ".py",
   "mimetype": "text/x-python",
   "name": "python",
   "nbconvert_exporter": "python",
   "pygments_lexer": "ipython3",
   "version": "3.9.7"
  }
 },
 "nbformat": 4,
 "nbformat_minor": 5
}
