{
 "cells": [
  {
   "cell_type": "code",
   "execution_count": 62,
   "id": "ae685715",
   "metadata": {},
   "outputs": [
    {
     "name": "stdout",
     "output_type": "stream",
     "text": [
      "file not found\n"
     ]
    }
   ],
   "source": [
    "def read_line(n, file):\n",
    "    try:\n",
    "        if type(n)!= int:\n",
    "            return(print(\"invalid input detected\")) \n",
    "        location='C:/temp/Matala3/'\n",
    "        handle = open(location + file, 'r')\n",
    "        rls=list()\n",
    "        for line in handle:\n",
    "            rls.append(line.rstrip())\n",
    "        print (rls[n-1])\n",
    "    except:\n",
    "        print(\"file not found\") \n",
    "\n",
    "read_line (4,'ex3_txt.txt')\n",
    "    "
   ]
  },
  {
   "cell_type": "code",
   "execution_count": null,
   "id": "ea5f8803",
   "metadata": {},
   "outputs": [],
   "source": []
  },
  {
   "cell_type": "code",
   "execution_count": null,
   "id": "622b3ccb",
   "metadata": {},
   "outputs": [],
   "source": []
  },
  {
   "cell_type": "code",
   "execution_count": null,
   "id": "7047f6ae",
   "metadata": {},
   "outputs": [],
   "source": []
  },
  {
   "cell_type": "code",
   "execution_count": null,
   "id": "da2999c4",
   "metadata": {},
   "outputs": [],
   "source": []
  }
 ],
 "metadata": {
  "kernelspec": {
   "display_name": "Python 3 (ipykernel)",
   "language": "python",
   "name": "python3"
  },
  "language_info": {
   "codemirror_mode": {
    "name": "ipython",
    "version": 3
   },
   "file_extension": ".py",
   "mimetype": "text/x-python",
   "name": "python",
   "nbconvert_exporter": "python",
   "pygments_lexer": "ipython3",
   "version": "3.9.7"
  }
 },
 "nbformat": 4,
 "nbformat_minor": 5
}
